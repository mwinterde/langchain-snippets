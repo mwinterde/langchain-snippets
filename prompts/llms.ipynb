{
 "cells": [
  {
   "cell_type": "code",
   "execution_count": 55,
   "metadata": {},
   "outputs": [],
   "source": [
    "import inspect"
   ]
  },
  {
   "attachments": {},
   "cell_type": "markdown",
   "metadata": {},
   "source": [
    "# Basics"
   ]
  },
  {
   "cell_type": "code",
   "execution_count": 56,
   "metadata": {},
   "outputs": [],
   "source": [
    "from langchain.prompts import PromptTemplate\n",
    "\n",
    "template = \"Translate the following sentence from {source_language} to {target_language}:\\n{sentence}\""
   ]
  },
  {
   "cell_type": "code",
   "execution_count": 57,
   "metadata": {},
   "outputs": [
    {
     "name": "stdout",
     "output_type": "stream",
     "text": [
      "Translate the following sentence from English to French:\n",
      "I love programming.\n"
     ]
    }
   ],
   "source": [
    "# Basic functionality of prompt templates is no different from standard f-string formatting\n",
    "prompt_template = PromptTemplate.from_template(template)\n",
    "prompt = prompt_template.format(source_language=\"English\", target_language=\"French\", sentence=\"I love programming.\")\n",
    "print(prompt)"
   ]
  },
  {
   "cell_type": "code",
   "execution_count": 58,
   "metadata": {},
   "outputs": [
    {
     "name": "stdout",
     "output_type": "stream",
     "text": [
      "Translate the following sentence from English to French:\n",
      "I love programming.\n"
     ]
    }
   ],
   "source": [
    "# from_template is a convenient constructor for PromptTemplate, but you can also construct it manually\n",
    "prompt_template = PromptTemplate(\n",
    "    template=template,\n",
    "    input_variables=[\"sentence\", \"source_language\", \"target_language\"],\n",
    ")\n",
    "prompt = prompt_template.format(source_language=\"English\", target_language=\"French\", sentence=\"I love programming.\")\n",
    "print(prompt)"
   ]
  },
  {
   "cell_type": "code",
   "execution_count": 59,
   "metadata": {},
   "outputs": [
    {
     "name": "stdout",
     "output_type": "stream",
     "text": [
      "Translate the following sentence from English to French:\n",
      "I love programming.\n",
      "Translate the following sentence from English to French:\n",
      "Langchain is so powerful.\n"
     ]
    }
   ],
   "source": [
    "# PromptTemplate supports additional functionality, such as partial formatting\n",
    "prompt_template = PromptTemplate.from_template(template)\n",
    "partial_prompt_template = prompt_template.partial(source_language=\"English\", target_language=\"French\")\n",
    "prompt_sentence1 = partial_prompt_template.format(sentence=\"I love programming.\")\n",
    "prompt_sentence2 = partial_prompt_template.format(sentence=\"Langchain is so powerful.\")\n",
    "print(prompt_sentence1)\n",
    "print(prompt_sentence2)"
   ]
  },
  {
   "cell_type": "code",
   "execution_count": 60,
   "metadata": {},
   "outputs": [
    {
     "name": "stdout",
     "output_type": "stream",
     "text": [
      "prompt_template.json:\n",
      "------------------\n",
      "{\n",
      "    \"input_variables\": [\n",
      "        \"sentence\",\n",
      "        \"source_language\",\n",
      "        \"target_language\"\n",
      "    ],\n",
      "    \"output_parser\": null,\n",
      "    \"partial_variables\": {},\n",
      "    \"template\": \"Translate the following sentence from {source_language} to {target_language}:\\n{sentence}\",\n",
      "    \"template_format\": \"f-string\",\n",
      "    \"validate_template\": true,\n",
      "    \"_type\": \"prompt\"\n",
      "}\n",
      "\n",
      "\n",
      "prompt_template.yaml:\n",
      "------------------\n",
      "_type: prompt\n",
      "input_variables:\n",
      "- sentence\n",
      "- source_language\n",
      "- target_language\n",
      "output_parser: null\n",
      "partial_variables: {}\n",
      "template: 'Translate the following sentence from {source_language} to {target_language}:\n",
      "\n",
      "  {sentence}'\n",
      "template_format: f-string\n",
      "validate_template: true\n",
      "\n"
     ]
    }
   ],
   "source": [
    "# It allows for serialization and deserialization\n",
    "# Two formats are supported: JSON and YAML\n",
    "prompt_template = PromptTemplate.from_template(template)\n",
    "\n",
    "prompt_template.save(\"prompt_template.json\")\n",
    "print(\"prompt_template.json:\\n------------------\")\n",
    "with open(\"prompt_template.json\") as f:\n",
    "    print(f.read())\n",
    "print(\"\\n\")\n",
    "\n",
    "prompt_template.save(\"prompt_template.yaml\")\n",
    "print(\"prompt_template.yaml:\\n------------------\")\n",
    "with open(\"prompt_template.yaml\") as f:\n",
    "    print(f.read())"
   ]
  },
  {
   "cell_type": "code",
   "execution_count": 61,
   "metadata": {},
   "outputs": [
    {
     "data": {
      "text/plain": [
       "PromptTemplate(input_variables=['sentence', 'source_language', 'target_language'], output_parser=None, partial_variables={}, template='Translate the following sentence from {source_language} to {target_language}:\\n{sentence}', template_format='f-string', validate_template=True)"
      ]
     },
     "execution_count": 61,
     "metadata": {},
     "output_type": "execute_result"
    }
   ],
   "source": [
    "# For loading prompts, we use the load_prompt function\n",
    "from langchain.prompts import load_prompt\n",
    "\n",
    "prompt_template = load_prompt(\"prompt_template.json\")\n",
    "prompt_template"
   ]
  },
  {
   "attachments": {},
   "cell_type": "markdown",
   "metadata": {},
   "source": [
    "# Few Shot Prompt Template"
   ]
  },
  {
   "cell_type": "code",
   "execution_count": 69,
   "metadata": {},
   "outputs": [
    {
     "name": "stdout",
     "output_type": "stream",
     "text": [
      "You are a chatbot that reacts with emojis to input messages of a user. Please don't use words in your responses, only emojis.\n",
      "\n",
      "Sentence: I love programming.\n",
      "Emoji: 😀\n",
      "\n",
      "Sentence: Langchain is so powerful.\n",
      "Emoji: 😎\n",
      "\n",
      "Sentence: I am so happy.\n",
      "Emoji: 😊\n",
      "\n",
      "Sentence: I am so sad.\n",
      "Emoji: 😢\n",
      "\n",
      "Sentence: This stuff is amazing!\n",
      "Emoji: \n"
     ]
    }
   ],
   "source": [
    "from langchain.prompts import PromptTemplate, FewShotPromptTemplate\n",
    "\n",
    "example_template = \"Sentence: {sentence}\\nEmoji: {emoji}\"\n",
    "example_prompt_template = PromptTemplate.from_template(example_template)\n",
    "examples = [\n",
    "    {\"sentence\": \"I love programming.\", \"emoji\": \"😀\"},\n",
    "    {\"sentence\": \"Langchain is so powerful.\", \"emoji\": \"😎\"},\n",
    "    {\"sentence\": \"I am so happy.\", \"emoji\": \"😊\"},\n",
    "    {\"sentence\": \"I am so sad.\", \"emoji\": \"😢\"},\n",
    "]\n",
    "\n",
    "prefix = \"You are a chatbot that reacts with emojis to input messages of a user. Please don't use words in your responses, only emojis.\"\n",
    "suffix = \"Sentence: {sentence}\\nEmoji: \"\n",
    "\n",
    "few_shot_prompt_template = FewShotPromptTemplate(\n",
    "    example_prompt=example_prompt_template,\n",
    "    examples=examples,\n",
    "    prefix=prefix,\n",
    "    suffix=suffix,\n",
    "    input_variables=[\"sentence\"],\n",
    ")\n",
    "few_shot_prompt = few_shot_prompt_template.format(sentence=\"This stuff is amazing!\")\n",
    "print(few_shot_prompt)"
   ]
  }
 ],
 "metadata": {
  "kernelspec": {
   "display_name": "langchain_snippets",
   "language": "python",
   "name": "python3"
  },
  "language_info": {
   "codemirror_mode": {
    "name": "ipython",
    "version": 3
   },
   "file_extension": ".py",
   "mimetype": "text/x-python",
   "name": "python",
   "nbconvert_exporter": "python",
   "pygments_lexer": "ipython3",
   "version": "3.9.16"
  },
  "orig_nbformat": 4
 },
 "nbformat": 4,
 "nbformat_minor": 2
}
