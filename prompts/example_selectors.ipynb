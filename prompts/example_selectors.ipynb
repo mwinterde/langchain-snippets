{
 "cells": [
  {
   "cell_type": "code",
   "execution_count": 1,
   "metadata": {},
   "outputs": [],
   "source": [
    "import inspect"
   ]
  },
  {
   "attachments": {},
   "cell_type": "markdown",
   "metadata": {},
   "source": [
    "# Basics"
   ]
  },
  {
   "cell_type": "code",
   "execution_count": 2,
   "metadata": {},
   "outputs": [],
   "source": [
    "from langchain.prompts.example_selector import (\n",
    "    LengthBasedExampleSelector,\n",
    "    SemanticSimilarityExampleSelector,\n",
    "    MaxMarginalRelevanceExampleSelector,\n",
    ")"
   ]
  },
  {
   "attachments": {},
   "cell_type": "markdown",
   "metadata": {},
   "source": [
    "## Example Selector Types"
   ]
  },
  {
   "cell_type": "code",
   "execution_count": 3,
   "metadata": {},
   "outputs": [
    {
     "name": "stdout",
     "output_type": "stream",
     "text": [
      "Select examples based on length.\n"
     ]
    }
   ],
   "source": [
    "# Drops examples from the bottom of the examples list until the total length of\n",
    "# the examples plus the query is less than or equal to the max context length\n",
    "print(inspect.getdoc(LengthBasedExampleSelector))"
   ]
  },
  {
   "cell_type": "code",
   "execution_count": 4,
   "metadata": {},
   "outputs": [
    {
     "name": "stdout",
     "output_type": "stream",
     "text": [
      "Example selector that selects examples based on SemanticSimilarity.\n"
     ]
    }
   ],
   "source": [
    "# Select k examples with the highest semantic similarity to the query\n",
    "print(inspect.getdoc(SemanticSimilarityExampleSelector))"
   ]
  },
  {
   "cell_type": "code",
   "execution_count": 5,
   "metadata": {},
   "outputs": [
    {
     "name": "stdout",
     "output_type": "stream",
     "text": [
      "ExampleSelector that selects examples based on Max Marginal Relevance.\n",
      "\n",
      "This was shown to improve performance in this paper:\n",
      "https://arxiv.org/pdf/2211.13892.pdf\n"
     ]
    }
   ],
   "source": [
    "# Select k examples based on a combination of semantic similarity and diversity\n",
    "# It does so by first selecting the example that is most similar to the query, and\n",
    "# then iteratively adding the remaining examples based on their similarity to the\n",
    "# query and a penalty for their similarity to the already selected examples\n",
    "print(inspect.getdoc(MaxMarginalRelevanceExampleSelector))"
   ]
  },
  {
   "cell_type": "code",
   "execution_count": 6,
   "metadata": {},
   "outputs": [
    {
     "name": "stdout",
     "output_type": "stream",
     "text": [
      "ExampleSelector that selects examples based on Max Marginal Relevance.\n",
      "\n",
      "This was shown to improve performance in this paper:\n",
      "https://arxiv.org/pdf/2211.13892.pdf\n"
     ]
    }
   ],
   "source": [
    "# Select k examples based on a combination of semantic similarity and diversity\n",
    "# It does so by first selecting the example that is most similar to the query, and\n",
    "# then iteratively adding the remaining examples based on their similarity to the\n",
    "# query and a penalty for their similarity to the already selected examples\n",
    "print(inspect.getdoc(MaxMarginalRelevanceExampleSelector))"
   ]
  },
  {
   "attachments": {},
   "cell_type": "markdown",
   "metadata": {},
   "source": [
    "# Length Based Example Selector"
   ]
  },
  {
   "cell_type": "code",
   "execution_count": 37,
   "metadata": {},
   "outputs": [],
   "source": [
    "from langchain.prompts import PromptTemplate, FewShotPromptTemplate\n",
    "\n",
    "# Prepare standard few shot prompt template\n",
    "example_template = \"Sentence: {sentence}\\nEmoji: {emoji}\"\n",
    "example_prompt_template = PromptTemplate.from_template(example_template)\n",
    "prefix = \"You are a chatbot that reacts with emojis to input messages of a user. Please don't use words in your responses, only emojis.\"\n",
    "suffix = \"Sentence: {sentence}\\nEmoji: \"\n",
    "examples = [\n",
    "    {\"sentence\": \"I love programming.\", \"emoji\": \"😀\"},\n",
    "    {\"sentence\": \"Langchain is so powerful.\", \"emoji\": \"😎\"},\n",
    "    {\"sentence\": \"I am so happy.\", \"emoji\": \"😊\"},\n",
    "    {\"sentence\": \"I am so sad.\", \"emoji\": \"😢\"},\n",
    "]\n",
    "\n",
    "# Instantiate example selector\n",
    "example_selector = LengthBasedExampleSelector(\n",
    "    example_prompt=example_prompt_template, \n",
    "    examples=examples, \n",
    "    max_length=40\n",
    ")\n",
    "\n",
    "# Create few shot prompt template\n",
    "few_shot_prompt_template = FewShotPromptTemplate(\n",
    "    example_prompt=example_prompt_template,\n",
    "    example_selector=example_selector,\n",
    "    prefix=prefix,\n",
    "    suffix=suffix,\n",
    "    input_variables=[\"sentence\"],\n",
    ")"
   ]
  },
  {
   "cell_type": "code",
   "execution_count": 38,
   "metadata": {},
   "outputs": [
    {
     "name": "stdout",
     "output_type": "stream",
     "text": [
      "You are a chatbot that reacts with emojis to input messages of a user. Please don't use words in your responses, only emojis.\n",
      "\n",
      "Sentence: I love programming.\n",
      "Emoji: 😀\n",
      "\n",
      "Sentence: Langchain is so powerful.\n",
      "Emoji: 😎\n",
      "\n",
      "Sentence: I am so happy.\n",
      "Emoji: 😊\n",
      "\n",
      "Sentence: I am so sad.\n",
      "Emoji: 😢\n",
      "\n",
      "Sentence: This stuff is amazing!\n",
      "Emoji: \n"
     ]
    }
   ],
   "source": [
    "# Create few shot prompt\n",
    "few_shot_prompt = few_shot_prompt_template.format(sentence=\"This stuff is amazing!\")\n",
    "print(few_shot_prompt)"
   ]
  },
  {
   "cell_type": "code",
   "execution_count": 39,
   "metadata": {},
   "outputs": [
    {
     "name": "stdout",
     "output_type": "stream",
     "text": [
      "You are a chatbot that reacts with emojis to input messages of a user. Please don't use words in your responses, only emojis.\n",
      "\n",
      "Sentence: I love programming.\n",
      "Emoji: 😀\n",
      "\n",
      "Sentence: Langchain is so powerful.\n",
      "Emoji: 😎\n",
      "\n",
      "Sentence: This sentence is just a litte bit longer than the previous one but is still expressing that this stuff is amazing!\n",
      "Emoji: \n"
     ]
    }
   ],
   "source": [
    "# Now let's formulate a longer query\n",
    "few_shot_prompt = few_shot_prompt_template.format(sentence=\"This sentence is just a litte bit longer than the previous one but is still expressing that this stuff is amazing!\")\n",
    "print(few_shot_prompt)"
   ]
  },
  {
   "attachments": {},
   "cell_type": "markdown",
   "metadata": {},
   "source": [
    "# Similarity Based Example Selector"
   ]
  },
  {
   "cell_type": "code",
   "execution_count": 41,
   "metadata": {},
   "outputs": [],
   "source": [
    "from langchain.vectorstores import FAISS\n",
    "from langchain.embeddings import OpenAIEmbeddings"
   ]
  },
  {
   "cell_type": "code",
   "execution_count": 56,
   "metadata": {},
   "outputs": [],
   "source": [
    "# Instantiate example selector\n",
    "example_selector = SemanticSimilarityExampleSelector.from_examples(\n",
    "    examples=examples, \n",
    "    vectorstore_cls=FAISS,\n",
    "    embeddings=OpenAIEmbeddings(),\n",
    "    k=2\n",
    ")\n",
    "\n",
    "# Create few shot prompt template\n",
    "few_shot_prompt_template = FewShotPromptTemplate(\n",
    "    example_prompt=example_prompt_template,\n",
    "    example_selector=example_selector,\n",
    "    prefix=prefix,\n",
    "    suffix=suffix,\n",
    "    input_variables=[\"sentence\"],\n",
    ")"
   ]
  },
  {
   "cell_type": "code",
   "execution_count": 57,
   "metadata": {},
   "outputs": [
    {
     "name": "stdout",
     "output_type": "stream",
     "text": [
      "You are a chatbot that reacts with emojis to input messages of a user. Please don't use words in your responses, only emojis.\n",
      "\n",
      "Sentence: I am so happy.\n",
      "Emoji: 😊\n",
      "\n",
      "Sentence: I am so sad.\n",
      "Emoji: 😢\n",
      "\n",
      "Sentence: I am very excited!\n",
      "Emoji: \n"
     ]
    }
   ],
   "source": [
    "# Example #1\n",
    "few_shot_prompt = few_shot_prompt_template.format(sentence=\"I am very excited!\")\n",
    "print(few_shot_prompt)"
   ]
  },
  {
   "cell_type": "code",
   "execution_count": 58,
   "metadata": {},
   "outputs": [
    {
     "name": "stdout",
     "output_type": "stream",
     "text": [
      "You are a chatbot that reacts with emojis to input messages of a user. Please don't use words in your responses, only emojis.\n",
      "\n",
      "Sentence: Langchain is so powerful.\n",
      "Emoji: 😎\n",
      "\n",
      "Sentence: I love programming.\n",
      "Emoji: 😀\n",
      "\n",
      "Sentence: Testing this langchain stuff is so cool!\n",
      "Emoji: \n"
     ]
    }
   ],
   "source": [
    "# Example #2\n",
    "few_shot_prompt = few_shot_prompt_template.format(sentence=\"Testing this langchain stuff is so cool!\")\n",
    "print(few_shot_prompt)"
   ]
  },
  {
   "attachments": {},
   "cell_type": "markdown",
   "metadata": {},
   "source": [
    "# Similarity Based Example Selector"
   ]
  },
  {
   "cell_type": "code",
   "execution_count": 59,
   "metadata": {},
   "outputs": [],
   "source": [
    "# Instantiate example selector\n",
    "example_selector = MaxMarginalRelevanceExampleSelector.from_examples(\n",
    "    examples=examples, \n",
    "    vectorstore_cls=FAISS,\n",
    "    embeddings=OpenAIEmbeddings(),\n",
    "    k=2\n",
    ")\n",
    "\n",
    "# Create few shot prompt template\n",
    "few_shot_prompt_template = FewShotPromptTemplate(\n",
    "    example_prompt=example_prompt_template,\n",
    "    example_selector=example_selector,\n",
    "    prefix=prefix,\n",
    "    suffix=suffix,\n",
    "    input_variables=[\"sentence\"],\n",
    ")"
   ]
  },
  {
   "cell_type": "code",
   "execution_count": 60,
   "metadata": {},
   "outputs": [
    {
     "name": "stdout",
     "output_type": "stream",
     "text": [
      "You are a chatbot that reacts with emojis to input messages of a user. Please don't use words in your responses, only emojis.\n",
      "\n",
      "Sentence: I am so happy.\n",
      "Emoji: 😊\n",
      "\n",
      "Sentence: Langchain is so powerful.\n",
      "Emoji: 😎\n",
      "\n",
      "Sentence: I am very excited!\n",
      "Emoji: \n"
     ]
    }
   ],
   "source": [
    "# Example #1 --> different from semantic similarity example selector, because it penalizes similarity to already selected examples\n",
    "few_shot_prompt = few_shot_prompt_template.format(sentence=\"I am very excited!\")\n",
    "print(few_shot_prompt)"
   ]
  }
 ],
 "metadata": {
  "kernelspec": {
   "display_name": "langchain_snippets",
   "language": "python",
   "name": "python3"
  },
  "language_info": {
   "codemirror_mode": {
    "name": "ipython",
    "version": 3
   },
   "file_extension": ".py",
   "mimetype": "text/x-python",
   "name": "python",
   "nbconvert_exporter": "python",
   "pygments_lexer": "ipython3",
   "version": "3.9.16"
  },
  "orig_nbformat": 4
 },
 "nbformat": 4,
 "nbformat_minor": 2
}
